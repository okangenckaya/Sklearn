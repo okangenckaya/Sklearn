{
 "cells": [
  {
   "cell_type": "code",
   "execution_count": 1,
   "id": "1b580105",
   "metadata": {},
   "outputs": [],
   "source": [
    "import pandas as pd\n",
    "import numpy as np\n",
    "import matplotlib.pyplot as plt\n",
    "from sklearn.neighbors import KNeighborsClassifier\n",
    "from sklearn import preprocessing, metrics\n",
    "from sklearn.model_selection import train_test_split"
   ]
  },
  {
   "cell_type": "markdown",
   "id": "bcda966e",
   "metadata": {},
   "source": [
    "Sklearn is used to analyse data with simple and effective tools."
   ]
  },
  {
   "cell_type": "code",
   "execution_count": 2,
   "id": "e9c0f594",
   "metadata": {},
   "outputs": [
    {
     "data": {
      "text/html": [
       "<div>\n",
       "<style scoped>\n",
       "    .dataframe tbody tr th:only-of-type {\n",
       "        vertical-align: middle;\n",
       "    }\n",
       "\n",
       "    .dataframe tbody tr th {\n",
       "        vertical-align: top;\n",
       "    }\n",
       "\n",
       "    .dataframe thead th {\n",
       "        text-align: right;\n",
       "    }\n",
       "</style>\n",
       "<table border=\"1\" class=\"dataframe\">\n",
       "  <thead>\n",
       "    <tr style=\"text-align: right;\">\n",
       "      <th></th>\n",
       "      <th>region</th>\n",
       "      <th>tenure</th>\n",
       "      <th>age</th>\n",
       "      <th>marital</th>\n",
       "      <th>address</th>\n",
       "      <th>income</th>\n",
       "      <th>ed</th>\n",
       "      <th>employ</th>\n",
       "      <th>retire</th>\n",
       "      <th>gender</th>\n",
       "      <th>reside</th>\n",
       "      <th>custcat</th>\n",
       "    </tr>\n",
       "  </thead>\n",
       "  <tbody>\n",
       "    <tr>\n",
       "      <th>0</th>\n",
       "      <td>2</td>\n",
       "      <td>13</td>\n",
       "      <td>44</td>\n",
       "      <td>1</td>\n",
       "      <td>9</td>\n",
       "      <td>64.0</td>\n",
       "      <td>4</td>\n",
       "      <td>5</td>\n",
       "      <td>0.0</td>\n",
       "      <td>0</td>\n",
       "      <td>2</td>\n",
       "      <td>1</td>\n",
       "    </tr>\n",
       "    <tr>\n",
       "      <th>1</th>\n",
       "      <td>3</td>\n",
       "      <td>11</td>\n",
       "      <td>33</td>\n",
       "      <td>1</td>\n",
       "      <td>7</td>\n",
       "      <td>136.0</td>\n",
       "      <td>5</td>\n",
       "      <td>5</td>\n",
       "      <td>0.0</td>\n",
       "      <td>0</td>\n",
       "      <td>6</td>\n",
       "      <td>4</td>\n",
       "    </tr>\n",
       "    <tr>\n",
       "      <th>2</th>\n",
       "      <td>3</td>\n",
       "      <td>68</td>\n",
       "      <td>52</td>\n",
       "      <td>1</td>\n",
       "      <td>24</td>\n",
       "      <td>116.0</td>\n",
       "      <td>1</td>\n",
       "      <td>29</td>\n",
       "      <td>0.0</td>\n",
       "      <td>1</td>\n",
       "      <td>2</td>\n",
       "      <td>3</td>\n",
       "    </tr>\n",
       "    <tr>\n",
       "      <th>3</th>\n",
       "      <td>2</td>\n",
       "      <td>33</td>\n",
       "      <td>33</td>\n",
       "      <td>0</td>\n",
       "      <td>12</td>\n",
       "      <td>33.0</td>\n",
       "      <td>2</td>\n",
       "      <td>0</td>\n",
       "      <td>0.0</td>\n",
       "      <td>1</td>\n",
       "      <td>1</td>\n",
       "      <td>1</td>\n",
       "    </tr>\n",
       "    <tr>\n",
       "      <th>4</th>\n",
       "      <td>2</td>\n",
       "      <td>23</td>\n",
       "      <td>30</td>\n",
       "      <td>1</td>\n",
       "      <td>9</td>\n",
       "      <td>30.0</td>\n",
       "      <td>1</td>\n",
       "      <td>2</td>\n",
       "      <td>0.0</td>\n",
       "      <td>0</td>\n",
       "      <td>4</td>\n",
       "      <td>3</td>\n",
       "    </tr>\n",
       "    <tr>\n",
       "      <th>...</th>\n",
       "      <td>...</td>\n",
       "      <td>...</td>\n",
       "      <td>...</td>\n",
       "      <td>...</td>\n",
       "      <td>...</td>\n",
       "      <td>...</td>\n",
       "      <td>...</td>\n",
       "      <td>...</td>\n",
       "      <td>...</td>\n",
       "      <td>...</td>\n",
       "      <td>...</td>\n",
       "      <td>...</td>\n",
       "    </tr>\n",
       "    <tr>\n",
       "      <th>995</th>\n",
       "      <td>3</td>\n",
       "      <td>10</td>\n",
       "      <td>39</td>\n",
       "      <td>0</td>\n",
       "      <td>0</td>\n",
       "      <td>27.0</td>\n",
       "      <td>3</td>\n",
       "      <td>0</td>\n",
       "      <td>0.0</td>\n",
       "      <td>1</td>\n",
       "      <td>3</td>\n",
       "      <td>1</td>\n",
       "    </tr>\n",
       "    <tr>\n",
       "      <th>996</th>\n",
       "      <td>1</td>\n",
       "      <td>7</td>\n",
       "      <td>34</td>\n",
       "      <td>0</td>\n",
       "      <td>2</td>\n",
       "      <td>22.0</td>\n",
       "      <td>5</td>\n",
       "      <td>5</td>\n",
       "      <td>0.0</td>\n",
       "      <td>1</td>\n",
       "      <td>1</td>\n",
       "      <td>1</td>\n",
       "    </tr>\n",
       "    <tr>\n",
       "      <th>997</th>\n",
       "      <td>3</td>\n",
       "      <td>67</td>\n",
       "      <td>59</td>\n",
       "      <td>0</td>\n",
       "      <td>40</td>\n",
       "      <td>944.0</td>\n",
       "      <td>5</td>\n",
       "      <td>33</td>\n",
       "      <td>0.0</td>\n",
       "      <td>1</td>\n",
       "      <td>1</td>\n",
       "      <td>4</td>\n",
       "    </tr>\n",
       "    <tr>\n",
       "      <th>998</th>\n",
       "      <td>3</td>\n",
       "      <td>70</td>\n",
       "      <td>49</td>\n",
       "      <td>0</td>\n",
       "      <td>18</td>\n",
       "      <td>87.0</td>\n",
       "      <td>2</td>\n",
       "      <td>22</td>\n",
       "      <td>0.0</td>\n",
       "      <td>1</td>\n",
       "      <td>1</td>\n",
       "      <td>3</td>\n",
       "    </tr>\n",
       "    <tr>\n",
       "      <th>999</th>\n",
       "      <td>3</td>\n",
       "      <td>50</td>\n",
       "      <td>36</td>\n",
       "      <td>1</td>\n",
       "      <td>7</td>\n",
       "      <td>39.0</td>\n",
       "      <td>3</td>\n",
       "      <td>3</td>\n",
       "      <td>0.0</td>\n",
       "      <td>1</td>\n",
       "      <td>3</td>\n",
       "      <td>2</td>\n",
       "    </tr>\n",
       "  </tbody>\n",
       "</table>\n",
       "<p>1000 rows × 12 columns</p>\n",
       "</div>"
      ],
      "text/plain": [
       "     region  tenure  age  marital  address  income  ed  employ  retire  \\\n",
       "0         2      13   44        1        9    64.0   4       5     0.0   \n",
       "1         3      11   33        1        7   136.0   5       5     0.0   \n",
       "2         3      68   52        1       24   116.0   1      29     0.0   \n",
       "3         2      33   33        0       12    33.0   2       0     0.0   \n",
       "4         2      23   30        1        9    30.0   1       2     0.0   \n",
       "..      ...     ...  ...      ...      ...     ...  ..     ...     ...   \n",
       "995       3      10   39        0        0    27.0   3       0     0.0   \n",
       "996       1       7   34        0        2    22.0   5       5     0.0   \n",
       "997       3      67   59        0       40   944.0   5      33     0.0   \n",
       "998       3      70   49        0       18    87.0   2      22     0.0   \n",
       "999       3      50   36        1        7    39.0   3       3     0.0   \n",
       "\n",
       "     gender  reside  custcat  \n",
       "0         0       2        1  \n",
       "1         0       6        4  \n",
       "2         1       2        3  \n",
       "3         1       1        1  \n",
       "4         0       4        3  \n",
       "..      ...     ...      ...  \n",
       "995       1       3        1  \n",
       "996       1       1        1  \n",
       "997       1       1        4  \n",
       "998       1       1        3  \n",
       "999       1       3        2  \n",
       "\n",
       "[1000 rows x 12 columns]"
      ]
     },
     "execution_count": 2,
     "metadata": {},
     "output_type": "execute_result"
    }
   ],
   "source": [
    "df = pd.read_csv('data/teleCust1000t.csv')\n",
    "df"
   ]
  },
  {
   "cell_type": "code",
   "execution_count": 3,
   "id": "d6c4d27e",
   "metadata": {},
   "outputs": [
    {
     "data": {
      "text/plain": [
       "custcat\n",
       "3    281\n",
       "1    266\n",
       "4    236\n",
       "2    217\n",
       "Name: count, dtype: int64"
      ]
     },
     "execution_count": 3,
     "metadata": {},
     "output_type": "execute_result"
    }
   ],
   "source": [
    "# How to count customers according to category ? \n",
    "df['custcat'].value_counts()"
   ]
  },
  {
   "cell_type": "markdown",
   "id": "152e81d7",
   "metadata": {},
   "source": [
    "According to(K Nearest Neighbor ) algortim, so as to calculate the distance from per one point to another point, we use geometrical calculation. For this, we ought to create a matrix including per value inside our data set.\n",
    "\n",
    "\n",
    "\n"
   ]
  },
  {
   "cell_type": "code",
   "execution_count": 6,
   "id": "dd5d7b07",
   "metadata": {},
   "outputs": [
    {
     "name": "stdout",
     "output_type": "stream",
     "text": [
      "[[ 2. 13. 44. ...  0.  0.  2.]\n",
      " [ 3. 11. 33. ...  0.  0.  6.]\n",
      " [ 3. 68. 52. ...  0.  1.  2.]\n",
      " ...\n",
      " [ 3. 67. 59. ...  0.  1.  1.]\n",
      " [ 3. 70. 49. ...  0.  1.  1.]\n",
      " [ 3. 50. 36. ...  0.  1.  3.]]\n",
      "[1 4 3 1 3 3 2 4 3 2 1 3 1 4 1 2 3 3 1 4 2 1 4 1 3 3 4 3 1 2 2 4 3 2 4 2 4\n",
      " 3 3 3 3 3 1 4 3 2 2 4 1 3 1 2 4 1 1 1 2 1 3 2 3 4 1 4 4 1 3 3 1 1 1 2 1 2\n",
      " 3 1 3 1 3 4 4 1 4 3 2 1 2 4 4 3 2 1 2 4 1 4 3 2 3 2 4 3 3 2 2 2 1 4 1 2 2\n",
      " 2 1 2 3 1 3 3 3 1 1 1 1 2 1 2 4 2 2 4 3 1 4 2 3 1 1 3 3 4 4 3 4 2 3 1 4 2\n",
      " 2 2 1 3 4 4 4 3 1 1 2 3 3 3 1 3 2 2 4 1 1 2 4 1 4 1 2 1 3 4 4 1 4 1 2 2 2\n",
      " 1 1 2 3 3 1 4 2 3 4 1 1 3 1 4 1 4 2 2 4 1 3 4 3 3 1 1 1 2 2 1 3 4 4 1 3 4\n",
      " 1 3 1 4 4 1 3 3 3 3 2 1 4 2 4 4 1 4 1 4 3 2 1 3 2 1 1 2 1 4 2 2 4 3 2 1 4\n",
      " 4 4 1 3 2 1 1 3 3 3 1 3 2 4 1 3 2 2 3 3 1 4 4 3 2 3 3 4 3 3 2 4 3 2 3 4 4\n",
      " 3 1 4 2 3 3 2 2 1 4 2 3 4 1 1 2 2 4 4 1 3 1 4 1 4 3 2 4 1 3 1 3 4 1 1 1 1\n",
      " 4 2 1 3 1 1 3 1 4 1 4 3 1 2 3 4 4 4 3 1 3 2 3 2 2 3 3 3 3 4 2 3 1 4 3 1 4\n",
      " 4 3 2 4 1 1 2 2 4 1 1 2 3 2 2 3 1 4 3 2 1 4 4 4 3 4 3 2 3 3 2 3 2 3 1 3 4\n",
      " 2 1 2 4 1 2 2 3 2 1 3 2 1 2 1 3 4 2 2 4 1 3 2 1 2 1 2 4 4 1 4 3 4 4 3 4 1\n",
      " 3 2 3 1 4 3 3 1 1 2 4 1 4 2 3 4 1 4 3 2 3 4 3 1 2 1 2 3 2 1 4 2 4 3 2 1 1\n",
      " 1 2 1 3 1 1 3 2 3 1 1 1 1 3 4 2 4 3 3 2 2 2 3 1 1 2 4 2 2 4 4 2 2 4 4 1 4\n",
      " 4 3 4 2 3 1 2 2 3 1 4 1 1 1 3 2 3 3 4 3 4 4 3 3 4 1 3 4 1 3 1 1 2 4 2 3 1\n",
      " 1 3 3 2 4 2 4 1 1 3 2 1 2 1 3 2 4 3 4 1 1 4 1 4 3 2 3 3 1 1 3 1 1 1 1 3 4\n",
      " 3 1 3 4 3 3 4 1 1 2 1 3 2 2 3 1 4 1 3 2 3 3 3 1 1 3 2 4 3 1 2 2 4 1 4 3 1\n",
      " 1 3 1 3 4 1 4 2 1 3 3 4 3 3 1 1 2 4 4 3 1 3 1 3 1 1 3 3 4 2 1 3 2 1 4 4 1\n",
      " 4 2 2 4 2 2 3 1 2 3 4 3 4 2 2 3 3 1 3 3 2 1 4 2 2 3 2 1 4 2 4 3 4 2 2 2 3\n",
      " 3 1 2 2 2 3 4 4 1 4 4 4 1 4 3 3 4 1 1 1 4 2 3 2 3 1 1 1 1 4 1 2 2 1 1 4 3\n",
      " 2 4 3 3 1 4 2 2 2 1 4 4 2 3 2 1 3 2 1 2 4 4 3 1 2 4 4 3 2 1 2 3 4 3 3 2 1\n",
      " 4 4 4 1 1 3 4 1 1 1 3 2 2 2 1 2 3 1 3 2 4 4 4 3 4 3 3 3 3 3 4 3 2 4 1 2 3\n",
      " 3 3 3 3 4 3 1 3 4 4 1 4 1 3 2 2 3 2 1 1 3 1 2 3 3 4 1 3 1 2 1 1 1 4 4 4 2\n",
      " 3 2 2 3 3 1 3 4 1 2 3 4 4 2 4 1 4 3 2 4 3 3 2 1 3 3 3 4 2 4 4 3 2 3 3 4 4\n",
      " 2 4 4 2 3 4 2 1 2 2 4 4 4 4 1 1 1 1 1 2 3 1 3 4 2 1 3 3 2 3 3 4 1 4 2 3 3\n",
      " 3 4 1 3 3 4 4 4 3 4 1 1 3 1 3 1 2 4 3 3 4 3 2 4 2 1 4 3 4 4 1 1 3 3 3 1 1\n",
      " 2 1 4 4 4 3 1 3 1 1 3 3 3 2 3 1 1 3 2 1 3 1 3 4 4 4 2 3 3 2 3 4 4 1 1 4 3\n",
      " 2]\n"
     ]
    }
   ],
   "source": [
    "# Step 1: Take column names from df:\n",
    "df.columns\n",
    "\n",
    "# Step 2: Create a feature matrix enabling to get access to values by using columns' name taken above.\n",
    "# Except for custcat column, we have gotten all columns names here.\n",
    "\n",
    "x = df[['region', 'tenure', 'age', 'marital', 'address', 'income', 'ed',\n",
    "       'employ', 'retire', 'gender', 'reside']].values\n",
    "print(x)\n",
    "\n",
    "# Step 3: Create a matrix including values of custcat.\n",
    "\n",
    "y = df['custcat'].values\n",
    "print(y)"
   ]
  },
  {
   "cell_type": "markdown",
   "id": "ac8b6651",
   "metadata": {},
   "source": [
    "We will transform x data set's values to nonconstant values by dividing for each value inside data set \n",
    "by their standart deviation. Preprocessing helps us perform the following operation.\n",
    "Fit enables us to perform the opearation of StandartScaler. Then, because we will need float value, we transformed the result here."
   ]
  },
  {
   "cell_type": "code",
   "execution_count": 7,
   "id": "9678445b",
   "metadata": {
    "scrolled": true
   },
   "outputs": [
    {
     "name": "stdout",
     "output_type": "stream",
     "text": [
      "[[-0.02696767 -1.055125    0.18450456 ... -0.22207644 -1.03459817\n",
      "  -0.23065004]\n",
      " [ 1.19883553 -1.14880563 -0.69181243 ... -0.22207644 -1.03459817\n",
      "   2.55666158]\n",
      " [ 1.19883553  1.52109247  0.82182601 ... -0.22207644  0.96655883\n",
      "  -0.23065004]\n",
      " ...\n",
      " [ 1.19883553  1.47425216  1.37948227 ... -0.22207644  0.96655883\n",
      "  -0.92747794]\n",
      " [ 1.19883553  1.61477311  0.58283046 ... -0.22207644  0.96655883\n",
      "  -0.92747794]\n",
      " [ 1.19883553  0.67796676 -0.45281689 ... -0.22207644  0.96655883\n",
      "   0.46617787]]\n"
     ]
    }
   ],
   "source": [
    "x = preprocessing.StandardScaler().fit(x).transform(x.astype(float))\n",
    "print(x)"
   ]
  },
  {
   "cell_type": "code",
   "execution_count": 10,
   "id": "1cda0e7b",
   "metadata": {},
   "outputs": [
    {
     "name": "stdin",
     "output_type": "stream",
     "text": [
      "Please type K number:  5\n"
     ]
    },
    {
     "name": "stdout",
     "output_type": "stream",
     "text": [
      "[0.29 0.31 0.41 0.29]\n",
      "[0.04537621 0.04624932 0.04918333 0.04537621]\n"
     ]
    }
   ],
   "source": [
    "k_neighbor = int(input('Please type K number: '))\n",
    "\n",
    "# Because of Index logic, we have made subtraction.\n",
    "array_lenght = k_neighbor - 1\n",
    "\n",
    "# Numpy zeros() gives us new array filled with zero.\n",
    "jsi_acc = np.zeros(array_lenght)\n",
    "std_acc = np.zeros(array_lenght)\n",
    "\n",
    "for k in range(1, k_neighbor):\n",
    "    # KNeighborsClassifier helps us implement the k-nearest neighbors vote of classifier.\n",
    "    neigh = KNeighborsClassifier(n_neighbors=k).fit(x_train, y_train)\n",
    "    y_pred = neigh.predict(x_test)\n",
    "    jsi_acc[k - 1] = metrics.accuracy_score(y_test, y_pred)\n",
    "    std_acc[k - 1] = np.std(y_pred == y_test) / np.sqrt(y_pred.shape[0])\n",
    "    \n",
    "print(jsi_acc)\n",
    "print(std_acc)\n",
    "\n",
    "# According to jaccard similarity index, we aim to find the similarity between two objects or data sets."
   ]
  },
  {
   "cell_type": "code",
   "execution_count": 11,
   "id": "062c96f8",
   "metadata": {},
   "outputs": [
    {
     "data": {
      "text/plain": [
       "'The best accuracy was with: 0.41, with k=2'"
      ]
     },
     "execution_count": 11,
     "metadata": {},
     "output_type": "execute_result"
    }
   ],
   "source": [
    "f'The best accuracy was with: {jsi_acc.max()}, with k={jsi_acc.argmax()}'"
   ]
  },
  {
   "cell_type": "code",
   "execution_count": 12,
   "id": "7a07e608",
   "metadata": {},
   "outputs": [
    {
     "data": {
      "image/png": "[encoded data removed]",
      "text/plain": [
       "<Figure size 640x480 with 1 Axes>"
      ]
     },
     "metadata": {},
     "output_type": "display_data"
    }
   ],
   "source": [
    "plt.plot(range(1, k_neighbor), jsi_acc, 'g')\n",
    "plt.fill_between(range(1, k_neighbor), jsi_acc - 1 * std_acc + 1 * std_acc, alpha=0.1)\n",
    "plt.legend(('Accuracy', 'std'))\n",
    "plt.ylabel('Accuracy')\n",
    "plt.xlabel('Number of Neighbor')\n",
    "plt.grid(True)\n",
    "plt.tight_layout()\n",
    "plt.show()"
   ]
  },
  {
   "cell_type": "code",
   "execution_count": null,
   "id": "3b5ea1d1",
   "metadata": {},
   "outputs": [],
   "source": []
  }
 ],
 "metadata": {
  "kernelspec": {
   "display_name": "Python 3 (ipykernel)",
   "language": "python",
   "name": "python3"
  },
  "language_info": {
   "codemirror_mode": {
    "name": "ipython",
    "version": 3
   },
   "file_extension": ".py",
   "mimetype": "text/x-python",
   "name": "python",
   "nbconvert_exporter": "python",
   "pygments_lexer": "ipython3",
   "version": "3.11.7"
  }
 },
 "nbformat": 4,
 "nbformat_minor": 5
}
